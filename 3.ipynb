{
 "cells": [
  {
   "cell_type": "code",
   "execution_count": 1,
   "metadata": {},
   "outputs": [],
   "source": [
    "import numpy as np\n",
    "import matplotlib.pyplot as plt\n",
    "%matplotlib inline"
   ]
  },
  {
   "cell_type": "code",
   "execution_count": 2,
   "metadata": {},
   "outputs": [],
   "source": [
    "class Model():\n",
    "    def __init__(self, H, C, LR, Mom = 0, K = 5, temp=1):\n",
    "        self.H = H\n",
    "#         print \"H:\",self.H\n",
    "        self.C = C\n",
    "#         print \"C:\",self.C\n",
    "        self.LR = LR\n",
    "#         print \"LR:\",self.LR\n",
    "        self.K = K\n",
    "#         print \"K:\",self.K\n",
    "        self.temp = temp\n",
    "#         print \"Temp:\",self.temp\n",
    "        self.Mom = Mom\n",
    "#         print \"Mom:\",self.Mom\n",
    "        wxh_xav = (6**0.5)/((C+H)**0.5)\n",
    "        self.Wxh = np.random.uniform(-wxh_xav,wxh_xav,(C,H))\n",
    "#         print \"Wxh:\",self.Wxh, self.Wxh.shape\n",
    "        self.Wxh_mom = np.zeros((C,H),dtype=float)\n",
    "#         print \"Wxh_mom:\",self.Wxh_mom, self.Wxh_mom.shape\n",
    "        whh_xav = (6**0.5)/((H+H)**0.5)\n",
    "        self.Whh = np.random.uniform(-whh_xav,whh_xav,(H,H))\n",
    "#         print \"Whh:\",self.Whh, self.Whh.shape\n",
    "        self.Whh_mom = np.zeros((H,H),dtype=float)\n",
    "#         print \"Whh_mom:\",self.Whh_mom, self.Whh_mom.shape\n",
    "        who_xav = (6**0.5)/((C+H)**0.5)\n",
    "        self.Who = np.random.uniform(-who_xav,who_xav,(H,C))\n",
    "#         print \"Who:\",self.Who, self.Who.shape\n",
    "        self.Who_mom = np.zeros((H,C),dtype=float)\n",
    "#         print \"Who_mom:\",self.Who_mom, self.Who_mom.shape\n",
    "        pass\n",
    "\n",
    "    def vis(self, test_string):\n",
    "        x = np.zeros((len(test_string),self.C),dtype=float)\n",
    "        for i in range(len(test_string)):\n",
    "            x[i,ord(test_string[i])]=1\n",
    "        ans = np.matrix(self.forward(x))\n",
    "        n,m = ans.shape\n",
    "        out_string = \"\"\n",
    "        confidence = []\n",
    "        for i in range(n):\n",
    "            max_prob = ans[i,0]\n",
    "            for j in range(m):\n",
    "                if ans[i,j] > max_prob:\n",
    "                    max_prob = ans[i,j]\n",
    "                    c = j\n",
    "            out_string += chr(c)\n",
    "            confidence.append(max_prob)\n",
    "        return out_string, confidence\n",
    "\n",
    "\n",
    "    def softmax(self, x):\n",
    "        e = np.exp(x)\n",
    "        sum_e = np.sum(e)\n",
    "        return e/sum_e\n",
    "    \n",
    "    def softmax_t(self, x):\n",
    "        x = x*self.temp\n",
    "        e = np.exp(x)\n",
    "        sum_e = np.sum(e)\n",
    "        return e/sum_e\n",
    "\n",
    "\n",
    "    def forward(self, X):\n",
    "        self.X = np.matrix(X)\n",
    "        i = 0\n",
    "        self.s = np.zeros((len(X)+1,self.H))\n",
    "        self.O_soft = np.zeros((len(X),self.C))\n",
    "        for x in X:\n",
    "            x = np.matrix(x)\n",
    "            # print \"x \",x,x.shape\n",
    "            s_prev = self.s[i-1]\n",
    "            # print \"s_prev \", s_prev, s_prev.shape\n",
    "            h_1 = np.matmul(x,self.Wxh)\n",
    "            # print \"h_1 \", h_1, h_1.shape\n",
    "            h_2 = np.matmul(s_prev,self.Whh)\n",
    "            # print \"h_2 \", h_2, h_2.shape\n",
    "            h_12 = h_1 + h_2\n",
    "            # print \"h_12 \", h_12, h_12.shape\n",
    "            s_curr = np.tanh(h_12)\n",
    "            # print \"s_curr \", s_curr, s_curr.shape\n",
    "            o = np.matmul(s_curr,self.Who)\n",
    "            o /= self.temp\n",
    "            # print \"o \", o, o.shape\n",
    "            o_soft = self.softmax(o)\n",
    "            # print \"o_soft \", o_soft, o_soft.shape\n",
    "            self.s[i] = s_curr\n",
    "            self.O_soft[i] = o_soft\n",
    "            i+=1\n",
    "        return self.O_soft\n",
    "\n",
    "\n",
    "    def loss(self, out, T):\n",
    "        # Cross-Entropy Loss\n",
    "        self.T = np.matrix(T)\n",
    "        self.loss_val = -np.multiply(np.log(out),T)\n",
    "        # print self.loss_val\n",
    "        return self.loss_val.sum()\n",
    "\n",
    "\n",
    "    def backward(self):\n",
    "        self.dE_dWho = np.zeros((self.H,self.C),dtype=float)\n",
    "        self.dE_dWxh = np.zeros((self.C,self.H),dtype=float)\n",
    "        self.dE_dWhh = np.zeros((self.H,self.H),dtype=float)\n",
    "        \n",
    "        I = np.identity(self.C)\n",
    "        for i in range(len(self.X)):\n",
    "            \n",
    "            error =np.matrix(self.loss_val[i])\n",
    "            o_soft = np.matrix(self.O_soft[i])\n",
    "            s_curr = np.matrix(self.s[i])\n",
    "            \n",
    "            \n",
    "            # E = -log(o_soft_j)                where j==target\n",
    "\n",
    "            # dE/d(o_soft_j) = -1/o_soft_j      if j==target\n",
    "            #                = 0                otherwise\n",
    "            dE_dosoft  = np.zeros((1,self.C))                                        # 1XC\n",
    "            \n",
    "            for j in range(self.C):\n",
    "                if error[0,j] != 0:\n",
    "                    dE_dosoft[0,j] = -1.0/o_soft[0,j]\n",
    "                    break                    \n",
    "\n",
    "            # d o_soft_j/ do_i  = o_soft_j - o_soft_j*o_soft_i   if i==j\n",
    "            #                   = - o_soft_j*o_soft_i            otherwise\n",
    "            diag_o_soft = np.multiply(I, o_soft)\n",
    "\n",
    "            dosoft_do\t= diag_o_soft - np.matmul(o_soft.T,o_soft)\t\t\t\t# CXC\n",
    "\n",
    "            dE_do \t\t= np.matmul(dE_dosoft, dosoft_do)\t\t\t\t\t\t# 1XC\n",
    "            \n",
    "            # d o / dWho = s_t\n",
    "            do_dWho\t\t= np.matrix(s_curr)\t\t\t\t\t\t\t\t\t\t# 1XH\n",
    "    \n",
    "            self.dE_dWho\t+= np.matmul(do_dWho.T, dE_do)\t\t\t\t\t\t# HXC\n",
    "            \n",
    "            # d o / d s_T = Who\n",
    "            do_ds\t\t= self.Who \t\t\t\t\t\t\t\t\t\t\t\t# HXC\n",
    "            \n",
    "            dE_ds \t\t= np.matmul(dE_do, do_ds.T)\t\t\t\t\t\t\t\t# 1XH\n",
    "            # s_T = tanh(h1+h2)\n",
    "            # d s_T / d (h1+h2) = 1 - s_T**2\n",
    "            ds_dh12\t\t= np.ones((1,self.H)) - np.multiply(s_curr,s_curr)\t\t# 1XH\n",
    "\n",
    "            dE_dh12\t\t= np.multiply(dE_ds,ds_dh12)\t\t\t\t\t\t\t# 1XH\n",
    "            \n",
    "            dh12_dh1\t= 1\n",
    "            dh12_dh2\t= 1\n",
    "            \n",
    "            dE_dh1 \t\t= dE_dh12\t\t\t\t\t\t\t\t\t\t\t\t# 1XH\n",
    "            dE_dh2 \t\t= dE_dh12\t\t\t\t\t\t\t\t\t\t\t\t# 1XH\n",
    "            \n",
    "            #  Going back in time            \n",
    "            for time_step in range(i, max(-1,i-self.K-1),-1):\n",
    "                \n",
    "                s_prev = np.matrix(self.s[time_step-1])\n",
    "                x_curr = np.matrix(self.X[time_step])\n",
    "                \n",
    "                # d h1/ d Whh = x_T\n",
    "                                \n",
    "                dh1_dWxh\t\t= np.matrix(x_curr) \t\t\t\t\t\t\t# 1xC\n",
    "                \n",
    "                self.dE_dWxh\t+= np.matmul(dh1_dWxh.T, dE_dh12)\t\t\t\t# CXH\n",
    "                \n",
    "                \n",
    "                # d h2/ d Whh = s_(T-1)\n",
    "                dh2_dWhh \t\t= np.matrix(s_prev) \t\t\t\t\t\t\t# 1XH\n",
    "                \n",
    "                self.dE_dWhh\t+= np.matmul(dh2_dWhh.T, dE_dh12)\t\t\t\t# HXH\n",
    "                \n",
    "                eq1 = np.ones((1,self.H)) - np.multiply(s_prev,s_prev)\n",
    "                eq2 = np.matmul(dE_dh12, self.Whh.T)\n",
    "                \n",
    "                dE_dh12 = np.multiply(eq1,eq2)\n",
    "\n",
    "            pass\n",
    "\n",
    "\n",
    "    def step(self):\n",
    "        self.Who -= np.multiply(self.LR, self.dE_dWho)\n",
    "        self.Wxh -= np.multiply(self.LR, self.dE_dWxh)\n",
    "        self.Whh -= np.multiply(self.LR, self.dE_dWhh)       \n",
    "#         self.Who_mom  = np.multiply((1-self.Mom),self.dE_dWho) + np.multiply(self.Mom,self.Who_mom)\n",
    "#         self.Who \t\t= self.Who + np.multiply(self.LR,self.Who_mom)\n",
    "#         self.Wxh_mom  = np.multiply((1-self.Mom),self.dE_dWxh) + np.multiply(self.Mom,self.Wxh_mom)\n",
    "#         self.Wxh \t\t= self.Wxh + np.multiply(self.LR,self.Wxh_mom)\n",
    "#         self.Whh_mom  = np.multiply((1-self.Mom),self.dE_dWhh) + np.multiply(self.Mom,self.Whh_mom)\n",
    "#         self.Whh \t\t= self.Whh + np.multiply(self.LR,self.Whh_mom)\n",
    "        pass"
   ]
  },
  {
   "cell_type": "code",
   "execution_count": 3,
   "metadata": {},
   "outputs": [],
   "source": [
    "X = np.genfromtxt('one_hot_1_short.csv', delimiter=',')\n",
    "T = X[1:]\n",
    "X = X[:-1]"
   ]
  },
  {
   "cell_type": "code",
   "execution_count": 4,
   "metadata": {},
   "outputs": [],
   "source": [
    "text = \"hello\"\n",
    "def train(epochs, K, e_min = 0.0001):\n",
    "    global text\n",
    "    train_loss = []\n",
    "    N = len(X)\n",
    "    for epoch in range(epochs):\n",
    "        avg_loss = 0.0\n",
    "        i = 0        \n",
    "        while i < N:\n",
    "            x = X[i:min(N,i+K)]\n",
    "            t = T[i:min(N,i+K)]\n",
    "            out = model.forward(x)\n",
    "            error = model.loss(out, t)\n",
    "            model.backward()\n",
    "            model.step()\n",
    "            avg_loss += error\n",
    "            i += K\n",
    "        avg_loss = avg_loss/float(N)\n",
    "        train_loss.append(avg_loss)\n",
    "        \n",
    "        if (epoch+1)%10 == 0:\n",
    "            print \"After Epoch\",epoch+1,avg_loss\n",
    "        \n",
    "        if (epoch+1)%20 == 0:\n",
    "            print \"Visualistion of Input\", text\n",
    "            out_str, confidence = model.vis(text)\n",
    "            print out_str, \" With confidence per character \", confidence\n",
    "\n",
    "        if avg_loss < e_min:\n",
    "            print \"Train Loss \",avg_loss\n",
    "            return train_loss\n",
    "    print \"Train Loss \",avg_loss\n",
    "    return train_loss"
   ]
  },
  {
   "cell_type": "code",
   "execution_count": 6,
   "metadata": {},
   "outputs": [
    {
     "name": "stdout",
     "output_type": "stream",
     "text": [
      "After Epoch 10 0.10167771696894819\n",
      "Train Loss  0.09935442015595945\n"
     ]
    },
    {
     "data": {
      "text/plain": [
       "[<matplotlib.lines.Line2D at 0x7fc926464b50>]"
      ]
     },
     "execution_count": 6,
     "metadata": {},
     "output_type": "execute_result"
    },
    {
     "data": {
      "image/png": "[encoded data removed]",
      "text/plain": [
       "<matplotlib.figure.Figure at 0x7fc9324064d0>"
      ]
     },
     "metadata": {},
     "output_type": "display_data"
    }
   ],
   "source": [
    "K = 5\n",
    "epochs = 50\n",
    "LR = 0.1\n",
    "H = 50\n",
    "C = 256\n",
    "temp = 1\n",
    "Mom = 0.1\n",
    "e_min = 0.1\n",
    "model = Model(H,C,LR,Mom, K, temp)\n",
    "train_loss = train(epochs,K,e_min)\n",
    "plt.plot(range(1,len(train_loss)+1),train_loss)"
   ]
  },
  {
   "cell_type": "code",
   "execution_count": 7,
   "metadata": {},
   "outputs": [
    {
     "name": "stdout",
     "output_type": "stream",
     "text": [
      "After Epoch 10 0.10190696533114776\n",
      "After Epoch 20 0.08994418367519676\n",
      "Visualistion of Input hello\n",
      "ello   With confidence per character  [0.9738278280836717, 0.9998543315565809, 0.9979729715790969, 0.9961981416798718, 0.9997384233677552]\n",
      "After Epoch 30 0.0852413928467261\n",
      "After Epoch 40 0.08202209145239024\n",
      "Visualistion of Input hello\n",
      "ello   With confidence per character  [0.9888208848463097, 0.9998970947020392, 0.9983161256951377, 0.9970537119595658, 0.9997869739382833]\n",
      "After Epoch 50 0.07960685737918756\n",
      "Train Loss  0.07960685737918756\n"
     ]
    },
    {
     "data": {
      "text/plain": [
       "[<matplotlib.lines.Line2D at 0x7fc9263ec550>]"
      ]
     },
     "execution_count": 7,
     "metadata": {},
     "output_type": "execute_result"
    },
    {
     "data": {
      "image/png": "[encoded data removed]",
      "text/plain": [
       "<matplotlib.figure.Figure at 0x7fc932492f50>"
      ]
     },
     "metadata": {},
     "output_type": "display_data"
    }
   ],
   "source": [
    "K = 5\n",
    "epochs = 50\n",
    "LR = 0.1\n",
    "H = 50\n",
    "C = 256\n",
    "temp = 1\n",
    "Mom = 0.1\n",
    "e_min = 0.01\n",
    "model = Model(H,C,LR,Mom, K, temp)\n",
    "train_loss = train(epochs,K,e_min)\n",
    "plt.plot(range(1,len(train_loss)+1),train_loss)"
   ]
  },
  {
   "cell_type": "code",
   "execution_count": 15,
   "metadata": {},
   "outputs": [
    {
     "name": "stdout",
     "output_type": "stream",
     "text": [
      "After Epoch 10 4.403818637691541\n",
      "After Epoch 20 1.345469794971682\n",
      "Visualistion of Input hello\n",
      "elll   With confidence per character  [0.15396270830962036, 0.4207176794899613, 0.7268512981611622, 0.3364544086335879, 0.06919548126473817]\n",
      "After Epoch 30 0.37778284304500503\n",
      "After Epoch 40 0.2992691288888586\n",
      "Visualistion of Input hello\n",
      "elll   With confidence per character  [0.9355807114847989, 0.713144795358361, 0.720895941301094, 0.4219118719907301, 0.5174705638678995]\n",
      "After Epoch 50 0.2784066889441397\n",
      "After Epoch 60 0.2690691213614597\n",
      "Visualistion of Input hello\n",
      "elll   With confidence per character  [0.9731584891480917, 0.8091124763881674, 0.7349931423864228, 0.4458823741532385, 0.6565653034064389]\n",
      "After Epoch 70 0.2638546109711582\n",
      "After Epoch 80 0.26055947246323785\n",
      "Visualistion of Input hello\n",
      "ello   With confidence per character  [0.9835096378934286, 0.8549225926504385, 0.7441299055475289, 0.4577810937513667, 0.7246195735281846]\n",
      "After Epoch 90 0.2583049368375209\n",
      "After Epoch 100 0.2566740368275072\n",
      "Visualistion of Input hello\n",
      "ello   With confidence per character  [0.9882254260621286, 0.8818877857481624, 0.7505043429729193, 0.4673317066980955, 0.7665859298764017]\n",
      "After Epoch 110 0.2554444641462157\n",
      "After Epoch 120 0.2544872994983614\n",
      "Visualistion of Input hello\n",
      "ello   With confidence per character  [0.9908950074946553, 0.8997277133379864, 0.7551888928974311, 0.4740620742860624, 0.7956779944555729]\n",
      "After Epoch 130 0.25372286494281837\n",
      "After Epoch 140 0.2530993908579626\n",
      "Visualistion of Input hello\n",
      "ello   With confidence per character  [0.9926032087471907, 0.9124430780228301, 0.7587501924690073, 0.47925732958192063, 0.8173285319448949]\n",
      "After Epoch 150 0.25258185568867514\n",
      "After Epoch 160 0.2521457663251381\n",
      "Visualistion of Input hello\n",
      "ello   With confidence per character  [0.9937860368835821, 0.9219865386508983, 0.7615181428163181, 0.48352224590915854, 0.8342289650725541]\n",
      "After Epoch 170 0.2517735080835691\n",
      "After Epoch 180 0.2514521084162443\n",
      "Visualistion of Input hello\n",
      "ello   With confidence per character  [0.9946515455215931, 0.9294265877599498, 0.7636998587329497, 0.4871797500986493, 0.8478825944271752]\n",
      "After Epoch 190 0.2511718158926042\n",
      "After Epoch 200 0.2509251685196985\n",
      "Visualistion of Input hello\n",
      "ello   With confidence per character  [0.9953112180061461, 0.9353980919685544, 0.7654331287979944, 0.4904181910216904, 0.8592028447564931]\n",
      "Train Loss  0.2509251685196985\n"
     ]
    },
    {
     "data": {
      "text/plain": [
       "[<matplotlib.lines.Line2D at 0x7fba6505fe10>]"
      ]
     },
     "execution_count": 15,
     "metadata": {},
     "output_type": "execute_result"
    },
    {
     "data": {
      "image/png": "[encoded data removed]",
      "text/plain": [
       "<matplotlib.figure.Figure at 0x7fba65142510>"
      ]
     },
     "metadata": {},
     "output_type": "display_data"
    }
   ],
   "source": [
    "model = Model(50,256,0.01,0.1, 5)\n",
    "train_loss = train(200,1,0.01)\n",
    "plt.plot(range(1,len(train_loss)+1),train_loss)"
   ]
  },
  {
   "cell_type": "code",
   "execution_count": 10,
   "metadata": {},
   "outputs": [
    {
     "name": "stdout",
     "output_type": "stream",
     "text": [
      "After Epoch 10 0.10268376749979893\n",
      "After Epoch 20 0.08685641936020311\n",
      "Visualistion of Input hello\n",
      "ello   With confidence per character  [0.9656218468202933, 0.999914671861695, 0.9982531799658658, 0.9987780286829266, 0.9997843954086698]\n",
      "After Epoch 30 0.08287955603383217\n",
      "After Epoch 40 0.08038204424068897\n",
      "Visualistion of Input hello\n",
      "ello   With confidence per character  [0.9858118622412367, 0.9999243525648218, 0.9987002090724296, 0.999054561677349, 0.9998841117514717]\n",
      "After Epoch 50 0.0784590035328467\n",
      "After Epoch 60 0.07688579466108136\n",
      "Visualistion of Input hello\n",
      "ello   With confidence per character  [0.9912001507340803, 0.9999037407452305, 0.9987991762484756, 0.9991074209395662, 0.9999071958985125]\n",
      "After Epoch 70 0.07556611400931915\n",
      "After Epoch 80 0.07444275212050315\n",
      "Visualistion of Input hello\n",
      "ello   With confidence per character  [0.9936563831103412, 0.9998748576618951, 0.998853525169774, 0.9991248891516094, 0.9999142214121387]\n",
      "After Epoch 90 0.07347571294886793\n",
      "After Epoch 100 0.0726349588179757\n",
      "Visualistion of Input hello\n",
      "ello   With confidence per character  [0.9950534590998036, 0.9998443682366277, 0.9989019711965096, 0.9991383610976644, 0.9999159540319827]\n",
      "After Epoch 110 0.07189723362178228\n",
      "After Epoch 120 0.07124428226821145\n",
      "Visualistion of Input hello\n",
      "ello   With confidence per character  [0.9959526535949915, 0.9998164574684724, 0.9989492035681679, 0.9991568582161356, 0.9999157362405252]\n",
      "After Epoch 130 0.07066166496529964\n",
      "After Epoch 140 0.07013789196189124\n",
      "Visualistion of Input hello\n",
      "ello   With confidence per character  [0.9965791597309714, 0.9997933227202931, 0.9989940060192716, 0.9991814239079087, 0.9999148008403074]\n",
      "After Epoch 150 0.06966376719952362\n",
      "After Epoch 160 0.06923188378101186\n",
      "Visualistion of Input hello\n",
      "ello   With confidence per character  [0.9970404451472183, 0.9997755358338256, 0.9990349301056508, 0.9992102344080014, 0.9999136374020315]\n",
      "After Epoch 170 0.06883623483959159\n",
      "After Epoch 180 0.06847191326674457\n",
      "Visualistion of Input hello\n",
      "ello   With confidence per character  [0.9973941510674025, 0.9997626682677514, 0.9990713640262491, 0.9992410793077238, 0.9999124695526493]\n",
      "After Epoch 190 0.06813487990352673\n",
      "After Epoch 200 0.0678217843424055\n",
      "Visualistion of Input hello\n",
      "ello   With confidence per character  [0.9976739256282633, 0.9997538560894731, 0.9991034096136036, 0.9992721898205276, 0.9999114422912851]\n",
      "Train Loss  0.0678217843424055\n"
     ]
    },
    {
     "data": {
      "text/plain": [
       "[<matplotlib.lines.Line2D at 0x7fc926263850>]"
      ]
     },
     "execution_count": 10,
     "metadata": {},
     "output_type": "execute_result"
    },
    {
     "data": {
      "image/png": "[encoded data removed]",
      "text/plain": [
       "<matplotlib.figure.Figure at 0x7fc9262fe650>"
      ]
     },
     "metadata": {},
     "output_type": "display_data"
    }
   ],
   "source": [
    "K = 5\n",
    "epochs = 200\n",
    "LR = 0.08\n",
    "H = 50\n",
    "C = 256\n",
    "temp = 1\n",
    "Mom = 0.1\n",
    "e_min = 0.001\n",
    "model = Model(H,C,LR,Mom, K, temp)\n",
    "train_loss = train(epochs,K,e_min)\n",
    "plt.plot(range(1,len(train_loss)+1),train_loss)"
   ]
  },
  {
   "cell_type": "code",
   "execution_count": null,
   "metadata": {},
   "outputs": [],
   "source": []
  }
 ],
 "metadata": {
  "kernelspec": {
   "display_name": "Python 2",
   "language": "python",
   "name": "python2"
  },
  "language_info": {
   "codemirror_mode": {
    "name": "ipython",
    "version": 2
   },
   "file_extension": ".py",
   "mimetype": "text/x-python",
   "name": "python",
   "nbconvert_exporter": "python",
   "pygments_lexer": "ipython2",
   "version": "2.7.14"
  }
 },
 "nbformat": 4,
 "nbformat_minor": 2
}
