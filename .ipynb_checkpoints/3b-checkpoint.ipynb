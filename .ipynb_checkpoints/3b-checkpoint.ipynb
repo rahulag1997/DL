{
 "cells": [
  {
   "cell_type": "code",
   "execution_count": 1,
   "metadata": {},
   "outputs": [],
   "source": [
    "import numpy as np\n",
    "import matplotlib.pyplot as plt\n",
    "%matplotlib inline"
   ]
  },
  {
   "cell_type": "code",
   "execution_count": 2,
   "metadata": {},
   "outputs": [],
   "source": [
    "class Model():\n",
    "    def __init__(self, H, C, LR, Mom = 0, K = 5, temp=1):\n",
    "        self.H = H\n",
    "#         print \"H:\",self.H\n",
    "        self.C = C\n",
    "#         print \"C:\",self.C\n",
    "        self.LR = LR\n",
    "#         print \"LR:\",self.LR\n",
    "        self.K = K\n",
    "#         print \"K:\",self.K\n",
    "        self.temp = temp\n",
    "#         print \"Temp:\",self.temp\n",
    "        self.Mom = Mom\n",
    "#         print \"Mom:\",self.Mom\n",
    "        wxh_xav = (6**0.5)/((C+H)**0.5)\n",
    "        self.Wxh = np.random.uniform(-wxh_xav,wxh_xav,(C,H))\n",
    "#         print \"Wxh:\",self.Wxh, self.Wxh.shape\n",
    "        self.Wxh_mom = np.zeros((C,H),dtype=float)\n",
    "#         print \"Wxh_mom:\",self.Wxh_mom, self.Wxh_mom.shape\n",
    "        whh_xav = (6**0.5)/((H+H)**0.5)\n",
    "        self.Whh = np.random.uniform(-whh_xav,whh_xav,(H,H))\n",
    "#         print \"Whh:\",self.Whh, self.Whh.shape\n",
    "        self.Whh_mom = np.zeros((H,H),dtype=float)\n",
    "#         print \"Whh_mom:\",self.Whh_mom, self.Whh_mom.shape\n",
    "        who_xav = (6**0.5)/((C+H)**0.5)\n",
    "        self.Who = np.random.uniform(-who_xav,who_xav,(H,C))\n",
    "#         print \"Who:\",self.Who, self.Who.shape\n",
    "        self.Who_mom = np.zeros((H,C),dtype=float)\n",
    "#         print \"Who_mom:\",self.Who_mom, self.Who_mom.shape\n",
    "        pass\n",
    "\n",
    "    def vis(self, test_string):\n",
    "        x = np.zeros((len(test_string),self.C),dtype=float)\n",
    "        for i in range(len(test_string)):\n",
    "            x[i,ord(test_string[i])]=1\n",
    "        ans = np.matrix(self.forward(x))\n",
    "        n,m = ans.shape\n",
    "        out_string = \"\"\n",
    "        confidence = []\n",
    "        for i in range(n):\n",
    "            max_prob = ans[i,0]\n",
    "            for j in range(m):\n",
    "                if ans[i,j] > max_prob:\n",
    "                    max_prob = ans[i,j]\n",
    "                    c = j\n",
    "            out_string += chr(c)\n",
    "            confidence.append(max_prob)\n",
    "        return out_string, confidence\n",
    "\n",
    "\n",
    "    def softmax(self, x):\n",
    "        e = np.exp(x)\n",
    "        sum_e = np.sum(e)\n",
    "        return e/sum_e\n",
    "    \n",
    "    def softmax_t(self, x):\n",
    "        x = x*self.temp\n",
    "        e = np.exp(x)\n",
    "        sum_e = np.sum(e)\n",
    "        return e/sum_e\n",
    "\n",
    "\n",
    "    def forward(self, X):\n",
    "        self.X = np.matrix(X)\n",
    "        i = 0\n",
    "        self.s = np.zeros((len(X)+1,self.H))\n",
    "        self.O_soft = np.zeros((len(X),self.C))\n",
    "        for x in X:\n",
    "            x = np.matrix(x)\n",
    "            # print \"x \",x,x.shape\n",
    "            s_prev = self.s[i-1]\n",
    "            # print \"s_prev \", s_prev, s_prev.shape\n",
    "            h_1 = np.matmul(x,self.Wxh)\n",
    "            # print \"h_1 \", h_1, h_1.shape\n",
    "            h_2 = np.matmul(s_prev,self.Whh)\n",
    "            # print \"h_2 \", h_2, h_2.shape\n",
    "            h_12 = h_1 + h_2\n",
    "            # print \"h_12 \", h_12, h_12.shape\n",
    "            s_curr = np.tanh(h_12)\n",
    "            # print \"s_curr \", s_curr, s_curr.shape\n",
    "            o = np.matmul(s_curr,self.Who)\n",
    "            o /= self.temp\n",
    "            # print \"o \", o, o.shape\n",
    "            o_soft = self.softmax(o)\n",
    "            # print \"o_soft \", o_soft, o_soft.shape\n",
    "            self.s[i] = s_curr\n",
    "            self.O_soft[i] = o_soft\n",
    "            i+=1\n",
    "        return self.O_soft\n",
    "\n",
    "\n",
    "    def loss(self, out, T):\n",
    "        # Cross-Entropy Loss\n",
    "        self.T = np.matrix(T)\n",
    "        self.loss_val = -np.multiply(np.log(out),T)\n",
    "        # print self.loss_val\n",
    "        return self.loss_val.sum()\n",
    "\n",
    "\n",
    "    def backward(self):\n",
    "        self.dE_dWho = np.zeros((self.H,self.C),dtype=float)\n",
    "        self.dE_dWxh = np.zeros((self.C,self.H),dtype=float)\n",
    "        self.dE_dWhh = np.zeros((self.H,self.H),dtype=float)\n",
    "        \n",
    "        I = np.identity(self.C)\n",
    "        for i in range(len(self.X)):\n",
    "            \n",
    "            error =np.matrix(self.loss_val[i])\n",
    "            o_soft = np.matrix(self.O_soft[i])\n",
    "            s_curr = np.matrix(self.s[i])\n",
    "            \n",
    "            \n",
    "            # E = -log(o_soft_j)                where j==target\n",
    "\n",
    "            # dE/d(o_soft_j) = -1/o_soft_j      if j==target\n",
    "            #                = 0                otherwise\n",
    "            dE_dosoft  = np.zeros((1,self.C))                                        # 1XC\n",
    "            \n",
    "            for j in range(self.C):\n",
    "                if error[0,j] != 0:\n",
    "                    dE_dosoft[0,j] = -1.0/o_soft[0,j]\n",
    "                    break                    \n",
    "\n",
    "            # d o_soft_j/ do_i  = o_soft_j - o_soft_j*o_soft_i   if i==j\n",
    "            #                   = - o_soft_j*o_soft_i            otherwise\n",
    "            diag_o_soft = np.multiply(I, o_soft)\n",
    "\n",
    "            dosoft_do\t= diag_o_soft - np.matmul(o_soft.T,o_soft)\t\t\t\t# CXC\n",
    "\n",
    "            dE_do \t\t= np.matmul(dE_dosoft, dosoft_do)\t\t\t\t\t\t# 1XC\n",
    "            \n",
    "            # d o / dWho = s_t\n",
    "            do_dWho\t\t= np.matrix(s_curr)\t\t\t\t\t\t\t\t\t\t# 1XH\n",
    "    \n",
    "            self.dE_dWho\t+= np.matmul(do_dWho.T, dE_do)\t\t\t\t\t\t# HXC\n",
    "            \n",
    "            # d o / d s_T = Who\n",
    "            do_ds\t\t= self.Who \t\t\t\t\t\t\t\t\t\t\t\t# HXC\n",
    "            \n",
    "            dE_ds \t\t= np.matmul(dE_do, do_ds.T)\t\t\t\t\t\t\t\t# 1XH\n",
    "            # s_T = tanh(h1+h2)\n",
    "            # d s_T / d (h1+h2) = 1 - s_T**2\n",
    "            ds_dh12\t\t= np.ones((1,self.H)) - np.multiply(s_curr,s_curr)\t\t# 1XH\n",
    "\n",
    "            dE_dh12\t\t= np.multiply(dE_ds,ds_dh12)\t\t\t\t\t\t\t# 1XH\n",
    "            \n",
    "            dh12_dh1\t= 1\n",
    "            dh12_dh2\t= 1\n",
    "            \n",
    "            dE_dh1 \t\t= dE_dh12\t\t\t\t\t\t\t\t\t\t\t\t# 1XH\n",
    "            dE_dh2 \t\t= dE_dh12\t\t\t\t\t\t\t\t\t\t\t\t# 1XH\n",
    "            \n",
    "            #  Going back in time            \n",
    "            for time_step in range(i, max(-1,i-self.K-1),-1):\n",
    "                \n",
    "                s_prev = np.matrix(self.s[time_step-1])\n",
    "                x_curr = np.matrix(self.X[time_step])\n",
    "                \n",
    "                # d h1/ d Whh = x_T\n",
    "                                \n",
    "                dh1_dWxh\t\t= np.matrix(x_curr) \t\t\t\t\t\t\t# 1xC\n",
    "                \n",
    "                self.dE_dWxh\t+= np.matmul(dh1_dWxh.T, dE_dh12)\t\t\t\t# CXH\n",
    "                \n",
    "                \n",
    "                # d h2/ d Whh = s_(T-1)\n",
    "                dh2_dWhh \t\t= np.matrix(s_prev) \t\t\t\t\t\t\t# 1XH\n",
    "                \n",
    "                self.dE_dWhh\t+= np.matmul(dh2_dWhh.T, dE_dh12)\t\t\t\t# HXH\n",
    "                \n",
    "                eq1 = np.ones((1,self.H)) - np.multiply(s_prev,s_prev)\n",
    "                eq2 = np.matmul(dE_dh12, self.Whh.T)\n",
    "                \n",
    "                dE_dh12 = np.multiply(eq1,eq2)\n",
    "\n",
    "            pass\n",
    "\n",
    "\n",
    "    def step(self):\n",
    "        self.Who -= np.multiply(self.LR, self.dE_dWho)\n",
    "        self.Wxh -= np.multiply(self.LR, self.dE_dWxh)\n",
    "        self.Whh -= np.multiply(self.LR, self.dE_dWhh)       \n",
    "#         self.Who_mom  = np.multiply((1-self.Mom),self.dE_dWho) + np.multiply(self.Mom,self.Who_mom)\n",
    "#         self.Who \t\t= self.Who + np.multiply(self.LR,self.Who_mom)\n",
    "#         self.Wxh_mom  = np.multiply((1-self.Mom),self.dE_dWxh) + np.multiply(self.Mom,self.Wxh_mom)\n",
    "#         self.Wxh \t\t= self.Wxh + np.multiply(self.LR,self.Wxh_mom)\n",
    "#         self.Whh_mom  = np.multiply((1-self.Mom),self.dE_dWhh) + np.multiply(self.Mom,self.Whh_mom)\n",
    "#         self.Whh \t\t= self.Whh + np.multiply(self.LR,self.Whh_mom)\n",
    "        pass"
   ]
  },
  {
   "cell_type": "code",
   "execution_count": 3,
   "metadata": {},
   "outputs": [],
   "source": [
    "X = np.genfromtxt('one_hot_1_short.csv', delimiter=',')\n",
    "T = X[1:]\n",
    "X = X[:-1]"
   ]
  },
  {
   "cell_type": "code",
   "execution_count": 4,
   "metadata": {},
   "outputs": [],
   "source": [
    "text = \"hello\"\n",
    "def train(epochs, K, e_min = 0.0001):\n",
    "    global text\n",
    "    train_loss = []\n",
    "    N = len(X)\n",
    "    for epoch in range(epochs):\n",
    "        avg_loss = 0.0\n",
    "        i = 0        \n",
    "        while i < N:\n",
    "            x = X[i:min(N,i+K)]\n",
    "            t = T[i:min(N,i+K)]\n",
    "            out = model.forward(x)\n",
    "            error = model.loss(out, t)\n",
    "            model.backward()\n",
    "            model.step()\n",
    "            avg_loss += error\n",
    "            i += K\n",
    "        avg_loss = avg_loss/float(N)\n",
    "        train_loss.append(avg_loss)\n",
    "        \n",
    "        if (epoch+1)%10 == 0:\n",
    "            print \"After Epoch\",epoch+1,avg_loss\n",
    "        \n",
    "        if (epoch+1)%20 == 0:\n",
    "            print \"Visualistion of Input\", text\n",
    "            out_str, confidence = model.vis(text)\n",
    "            print out_str, \" With confidence per character \", confidence\n",
    "\n",
    "        if avg_loss < e_min:\n",
    "            print \"Train Loss \",avg_loss\n",
    "            return train_loss\n",
    "    print \"Train Loss \",avg_loss\n",
    "    return train_loss"
   ]
  },
  {
   "cell_type": "code",
   "execution_count": 5,
   "metadata": {},
   "outputs": [
    {
     "name": "stdout",
     "output_type": "stream",
     "text": [
      "Train Loss  0.07577535518233568\n"
     ]
    },
    {
     "data": {
      "text/plain": [
       "[<matplotlib.lines.Line2D at 0x7fdc65a64310>]"
      ]
     },
     "execution_count": 5,
     "metadata": {},
     "output_type": "execute_result"
    },
    {
     "data": {
      "image/png": "[encoded data removed]",
      "text/plain": [
       "<matplotlib.figure.Figure at 0x7fdc84389290>"
      ]
     },
     "metadata": {},
     "output_type": "display_data"
    }
   ],
   "source": [
    "K = 3\n",
    "epochs = 50\n",
    "LR = 0.1\n",
    "H = 50\n",
    "C = 256\n",
    "temp = 1\n",
    "Mom = 0.1\n",
    "e_min = 0.1\n",
    "model = Model(H,C,LR,Mom, K, temp)\n",
    "train_loss = train(epochs,K,e_min)\n",
    "plt.plot(range(1,len(train_loss)+1),train_loss)"
   ]
  },
  {
   "cell_type": "code",
   "execution_count": 6,
   "metadata": {},
   "outputs": [
    {
     "name": "stdout",
     "output_type": "stream",
     "text": [
      "After Epoch 10 0.10288104232611932\n",
      "After Epoch 20 0.09103952978710757\n",
      "Visualistion of Input hello\n",
      "ello   With confidence per character  [0.9745681597372134, 0.9998989393048717, 0.9985567695824805, 0.9975771190138071, 0.9999276240338115]\n",
      "After Epoch 30 0.08605085318709971\n",
      "After Epoch 40 0.0826139050535712\n",
      "Visualistion of Input hello\n",
      "ello   With confidence per character  [0.9890709190840112, 0.9999176121195084, 0.9988462126360644, 0.9980759802914204, 0.9999684514289453]\n",
      "After Epoch 50 0.0800468959859691\n",
      "Train Loss  0.0800468959859691\n"
     ]
    },
    {
     "data": {
      "text/plain": [
       "[<matplotlib.lines.Line2D at 0x7fdc5da01190>]"
      ]
     },
     "execution_count": 6,
     "metadata": {},
     "output_type": "execute_result"
    },
    {
     "data": {
      "image/png": "[encoded data removed]",
      "text/plain": [
       "<matplotlib.figure.Figure at 0x7fdc843e87d0>"
      ]
     },
     "metadata": {},
     "output_type": "display_data"
    }
   ],
   "source": [
    "K = 5\n",
    "epochs = 50\n",
    "LR = 0.1\n",
    "H = 50\n",
    "C = 256\n",
    "temp = 1\n",
    "Mom = 0.1\n",
    "e_min = 0.01\n",
    "model = Model(H,C,LR,Mom, K, temp)\n",
    "train_loss = train(epochs,K,e_min)\n",
    "plt.plot(range(1,len(train_loss)+1),train_loss)"
   ]
  },
  {
   "cell_type": "code",
   "execution_count": 7,
   "metadata": {},
   "outputs": [
    {
     "name": "stdout",
     "output_type": "stream",
     "text": [
      "After Epoch 10 0.10413800469530024\n",
      "After Epoch 20 0.09151149901756268\n",
      "Visualistion of Input hello\n",
      "ello   With confidence per character  [0.9759170772397475, 0.9999300867512284, 0.9985002274411362, 0.9974871331846918, 0.9998158010908292]\n",
      "After Epoch 30 0.08601077468053726\n",
      "After Epoch 40 0.08232834254104306\n",
      "Visualistion of Input hello\n",
      "ello   With confidence per character  [0.9898322698206835, 0.9999328534750787, 0.9985578830177941, 0.9977384249811614, 0.999895205063893]\n",
      "After Epoch 50 0.07965959241347138\n",
      "After Epoch 60 0.07763917924435994\n",
      "Visualistion of Input hello\n",
      "ello   With confidence per character  [0.9936658195914465, 0.9999164576511549, 0.9985822068865515, 0.9979408478009315, 0.9999203812696478]\n",
      "After Epoch 70 0.07605465002932917\n",
      "After Epoch 80 0.07477406597992423\n",
      "Visualistion of Input hello\n",
      "ello   With confidence per character  [0.9954323503167706, 0.9998983559946, 0.9986569016112405, 0.9981468187230098, 0.9999354834309492]\n",
      "After Epoch 90 0.07371264376115917\n",
      "After Epoch 100 0.0728142077632054\n",
      "Visualistion of Input hello\n",
      "ello   With confidence per character  [0.9964418455738326, 0.9998826171911452, 0.9987420613820082, 0.998325082362297, 0.9999459465027741]\n",
      "After Epoch 110 0.07204038353473437\n",
      "After Epoch 120 0.07136417373259352\n",
      "Visualistion of Input hello\n",
      "ello   With confidence per character  [0.9970926474858424, 0.9998701241068205, 0.9988183448671223, 0.9984688204026375, 0.9999535468225166]\n",
      "After Epoch 130 0.07076605985491774\n",
      "After Epoch 140 0.07023157851293911\n",
      "Visualistion of Input hello\n",
      "ello   With confidence per character  [0.9975460102694653, 0.9998607042877782, 0.9988818655842162, 0.9985826959297398, 0.9999592401288318]\n",
      "After Epoch 150 0.0697497742360474\n",
      "After Epoch 160 0.06931218528274606\n",
      "Visualistion of Input hello\n",
      "ello   With confidence per character  [0.9978793871997812, 0.9998538383743474, 0.9989339673210015, 0.9986732898311873, 0.9999636093183619]\n",
      "After Epoch 170 0.06891216178271427\n",
      "After Epoch 180 0.06854439642788486\n",
      "Visualistion of Input hello\n",
      "ello   With confidence per character  [0.9981345237449074, 0.9998489508322622, 0.9989770121445054, 0.9987463203416442, 0.9999670269135551]\n",
      "After Epoch 190 0.06820459447604182\n",
      "After Epoch 200 0.06788923717425947\n",
      "Visualistion of Input hello\n",
      "ello   With confidence per character  [0.9983358752086039, 0.9998455321319911, 0.9990131288842371, 0.9988062132919682, 0.9999697397964105]\n",
      "Train Loss  0.06788923717425947\n"
     ]
    },
    {
     "data": {
      "text/plain": [
       "[<matplotlib.lines.Line2D at 0x7fdc5d973a50>]"
      ]
     },
     "execution_count": 7,
     "metadata": {},
     "output_type": "execute_result"
    },
    {
     "data": {
      "image/png": "[encoded data removed]",
      "text/plain": [
       "<matplotlib.figure.Figure at 0x7fdc5d9e0190>"
      ]
     },
     "metadata": {},
     "output_type": "display_data"
    }
   ],
   "source": [
    "K = 5\n",
    "epochs = 200\n",
    "LR = 0.1\n",
    "H = 50\n",
    "C = 256\n",
    "temp = 1\n",
    "Mom = 0.1\n",
    "e_min = 0.01\n",
    "model = Model(H,C,LR,Mom, K, temp)\n",
    "train_loss = train(epochs,K,e_min)\n",
    "plt.plot(range(1,len(train_loss)+1),train_loss)"
   ]
  },
  {
   "cell_type": "code",
   "execution_count": 8,
   "metadata": {},
   "outputs": [
    {
     "name": "stdout",
     "output_type": "stream",
     "text": [
      "After Epoch 10 0.10230827058551034\n",
      "After Epoch 20 0.08584542604847258\n",
      "Visualistion of Input hello\n",
      "ello   With confidence per character  [0.9635872896563429, 0.9998995621413249, 0.9978316462461129, 0.9977402727331252, 0.9999199203403417]\n",
      "After Epoch 30 0.08187106209825896\n",
      "After Epoch 40 0.07946677789630756\n",
      "Visualistion of Input hello\n",
      "ello   With confidence per character  [0.9851014962181501, 0.999938434525736, 0.9984207730926803, 0.9981989744246071, 0.9999730236813961]\n",
      "After Epoch 50 0.0776456760830517\n",
      "After Epoch 60 0.07616392371007613\n",
      "Visualistion of Input hello\n",
      "ello   With confidence per character  [0.9907812517299964, 0.9999416269366279, 0.998547119692775, 0.9983380293164618, 0.9999844517478388]\n",
      "After Epoch 70 0.07492087090113657\n",
      "After Epoch 80 0.07385961770017459\n",
      "Visualistion of Input hello\n",
      "ello   With confidence per character  [0.9933630457886078, 0.9999376030530519, 0.9986178366811371, 0.998442856957749, 0.99998886652769]\n",
      "After Epoch 90 0.07294204455483297\n",
      "After Epoch 100 0.07214037448259095\n",
      "Visualistion of Input hello\n",
      "ello   With confidence per character  [0.9948296690577191, 0.9999309258545285, 0.9986795747055417, 0.9985427198293293, 0.9999910096230702]\n",
      "After Epoch 110 0.07143349773034471\n",
      "After Epoch 120 0.0708049993938025\n",
      "Visualistion of Input hello\n",
      "ello   With confidence per character  [0.9957727550383612, 0.9999233125586602, 0.99873763928121, 0.9986370553061176, 0.9999921870914102]\n",
      "After Epoch 130 0.07024193091819277\n",
      "After Epoch 140 0.06973397042492373\n",
      "Visualistion of Input hello\n",
      "ello   With confidence per character  [0.9964292570019526, 0.9999156410215426, 0.9987915790047701, 0.9987234094671573, 0.9999928917814168]\n",
      "After Epoch 150 0.06927281732083049\n",
      "After Epoch 160 0.06885174255864954\n",
      "Visualistion of Input hello\n",
      "ello   With confidence per character  [0.996912189897614, 0.9999083783592085, 0.99884067536708, 0.9988008695478341, 0.9999933477701258]\n",
      "After Epoch 170 0.06846524872217978\n",
      "After Epoch 180 0.06810881035057072\n",
      "Visualistion of Input hello\n",
      "ello   With confidence per character  [0.997282166096187, 0.9999017496295207, 0.9988846579489031, 0.9988696711048853, 0.9999936692500565]\n",
      "After Epoch 190 0.06777867406505349\n",
      "After Epoch 200 0.06747170379384183\n",
      "Visualistion of Input hello\n",
      "ello   With confidence per character  [0.9975745676992829, 0.9998958352959729, 0.998923658382992, 0.9989305589628878, 0.9999939179957911]\n",
      "Train Loss  0.06747170379384183\n"
     ]
    },
    {
     "data": {
      "text/plain": [
       "[<matplotlib.lines.Line2D at 0x7fdc5d8ef550>]"
      ]
     },
     "execution_count": 8,
     "metadata": {},
     "output_type": "execute_result"
    },
    {
     "data": {
      "image/png": "[encoded data removed]",
      "text/plain": [
       "<matplotlib.figure.Figure at 0x7fdc5d913910>"
      ]
     },
     "metadata": {},
     "output_type": "display_data"
    }
   ],
   "source": [
    "K = 5\n",
    "epochs = 200\n",
    "LR = 0.08\n",
    "H = 50\n",
    "C = 256\n",
    "temp = 1\n",
    "Mom = 0.1\n",
    "e_min = 0.001\n",
    "model = Model(H,C,LR,Mom, K, temp)\n",
    "train_loss = train(epochs,K,e_min)\n",
    "plt.plot(range(1,len(train_loss)+1),train_loss)"
   ]
  },
  {
   "cell_type": "code",
   "execution_count": null,
   "metadata": {},
   "outputs": [],
   "source": []
  }
 ],
 "metadata": {
  "kernelspec": {
   "display_name": "Python 2",
   "language": "python",
   "name": "python2"
  },
  "language_info": {
   "codemirror_mode": {
    "name": "ipython",
    "version": 2
   },
   "file_extension": ".py",
   "mimetype": "text/x-python",
   "name": "python",
   "nbconvert_exporter": "python",
   "pygments_lexer": "ipython2",
   "version": "2.7.14"
  }
 },
 "nbformat": 4,
 "nbformat_minor": 2
}
