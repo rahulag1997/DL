{
 "cells": [
  {
   "cell_type": "code",
   "execution_count": 1,
   "metadata": {},
   "outputs": [],
   "source": [
    "import numpy as np\n",
    "import matplotlib.pyplot as plt\n",
    "%matplotlib inline"
   ]
  },
  {
   "cell_type": "code",
   "execution_count": 2,
   "metadata": {},
   "outputs": [],
   "source": [
    "class Model():\n",
    "    def __init__(self, H, C, LR, Mom = 0, K = 5, temp=1):\n",
    "        self.H = H\n",
    "#         print \"H:\",self.H\n",
    "        self.C = C\n",
    "#         print \"C:\",self.C\n",
    "        self.LR = LR\n",
    "#         print \"LR:\",self.LR\n",
    "        self.K = K\n",
    "#         print \"K:\",self.K\n",
    "        self.temp = temp\n",
    "#         print \"Temp:\",self.temp\n",
    "        self.Mom = Mom\n",
    "#         print \"Mom:\",self.Mom\n",
    "        wxh_xav = (6**0.5)/((C+H)**0.5)\n",
    "        self.Wxh = np.random.uniform(-wxh_xav,wxh_xav,(C,H))\n",
    "#         print \"Wxh:\",self.Wxh, self.Wxh.shape\n",
    "        self.Wxh_mom = np.zeros((C,H),dtype=float)\n",
    "#         print \"Wxh_mom:\",self.Wxh_mom, self.Wxh_mom.shape\n",
    "        whh_xav = (6**0.5)/((H+H)**0.5)\n",
    "        self.Whh = np.random.uniform(-whh_xav,whh_xav,(H,H))\n",
    "#         print \"Whh:\",self.Whh, self.Whh.shape\n",
    "        self.Whh_mom = np.zeros((H,H),dtype=float)\n",
    "#         print \"Whh_mom:\",self.Whh_mom, self.Whh_mom.shape\n",
    "        who_xav = (6**0.5)/((C+H)**0.5)\n",
    "        self.Who = np.random.uniform(-who_xav,who_xav,(H,C))\n",
    "#         print \"Who:\",self.Who, self.Who.shape\n",
    "        self.Who_mom = np.zeros((H,C),dtype=float)\n",
    "#         print \"Who_mom:\",self.Who_mom, self.Who_mom.shape\n",
    "        pass\n",
    "\n",
    "    def vis(self, test_string):\n",
    "        x = np.zeros((len(test_string),self.C),dtype=float)\n",
    "        for i in range(len(test_string)):\n",
    "            x[i,ord(test_string[i])]=1\n",
    "        ans = np.matrix(self.forward(x))\n",
    "        n,m = ans.shape\n",
    "        out_string = \"\"\n",
    "        confidence = []\n",
    "        for i in range(n):\n",
    "            max_prob = ans[i,0]\n",
    "            for j in range(m):\n",
    "                if ans[i,j] > max_prob:\n",
    "                    max_prob = ans[i,j]\n",
    "                    c = j\n",
    "            out_string += chr(c)\n",
    "            confidence.append(max_prob)\n",
    "        return out_string, confidence\n",
    "\n",
    "\n",
    "    def softmax(self, x):\n",
    "        e = np.exp(x)\n",
    "        sum_e = np.sum(e)\n",
    "        return e/sum_e\n",
    "    \n",
    "    def softmax_t(self, x):\n",
    "        x = x*self.temp\n",
    "        e = np.exp(x)\n",
    "        sum_e = np.sum(e)\n",
    "        return e/sum_e\n",
    "\n",
    "\n",
    "    def forward(self, X):\n",
    "        self.X = np.matrix(X)\n",
    "        i = 0\n",
    "        self.s = np.zeros((len(X)+1,self.H))\n",
    "        self.O_soft = np.zeros((len(X),self.C))\n",
    "        for x in X:\n",
    "            x = np.matrix(x)\n",
    "            # print \"x \",x,x.shape\n",
    "            s_prev = self.s[i-1]\n",
    "            # print \"s_prev \", s_prev, s_prev.shape\n",
    "            h_1 = np.matmul(x,self.Wxh)\n",
    "            # print \"h_1 \", h_1, h_1.shape\n",
    "            h_2 = np.matmul(s_prev,self.Whh)\n",
    "            # print \"h_2 \", h_2, h_2.shape\n",
    "            h_12 = h_1 + h_2\n",
    "            # print \"h_12 \", h_12, h_12.shape\n",
    "            s_curr = np.tanh(h_12)\n",
    "            # print \"s_curr \", s_curr, s_curr.shape\n",
    "            o = np.matmul(s_curr,self.Who)\n",
    "            o /= self.temp\n",
    "            # print \"o \", o, o.shape\n",
    "            o_soft = self.softmax(o)\n",
    "            # print \"o_soft \", o_soft, o_soft.shape\n",
    "            self.s[i] = s_curr\n",
    "            self.O_soft[i] = o_soft\n",
    "            i+=1\n",
    "        return self.O_soft\n",
    "\n",
    "\n",
    "    def loss(self, out, T):\n",
    "        # Cross-Entropy Loss\n",
    "        self.T = np.matrix(T)\n",
    "        self.loss_val = -np.multiply(np.log(out),T)\n",
    "        # print self.loss_val\n",
    "        return self.loss_val.sum()\n",
    "\n",
    "\n",
    "    def backward(self):\n",
    "        self.dE_dWho = np.zeros((self.H,self.C),dtype=float)\n",
    "        self.dE_dWxh = np.zeros((self.C,self.H),dtype=float)\n",
    "        self.dE_dWhh = np.zeros((self.H,self.H),dtype=float)\n",
    "        \n",
    "        I = np.identity(self.C)\n",
    "        for i in range(len(self.X)):\n",
    "            \n",
    "            error =np.matrix(self.loss_val[i])\n",
    "            o_soft = np.matrix(self.O_soft[i])\n",
    "            s_curr = np.matrix(self.s[i])\n",
    "            \n",
    "            \n",
    "            # E = -log(o_soft_j)                where j==target\n",
    "\n",
    "            # dE/d(o_soft_j) = -1/o_soft_j      if j==target\n",
    "            #                = 0                otherwise\n",
    "            dE_dosoft  = np.zeros((1,self.C))                                        # 1XC\n",
    "            \n",
    "            for j in range(self.C):\n",
    "                if error[0,j] != 0:\n",
    "                    dE_dosoft[0,j] = -1.0/o_soft[0,j]\n",
    "                    break                    \n",
    "\n",
    "            # d o_soft_j/ do_i  = o_soft_j - o_soft_j*o_soft_i   if i==j\n",
    "            #                   = - o_soft_j*o_soft_i            otherwise\n",
    "            diag_o_soft = np.multiply(I, o_soft)\n",
    "\n",
    "            dosoft_do\t= diag_o_soft - np.matmul(o_soft.T,o_soft)\t\t\t\t# CXC\n",
    "\n",
    "            dE_do \t\t= np.matmul(dE_dosoft, dosoft_do)\t\t\t\t\t\t# 1XC\n",
    "            \n",
    "            # d o / dWho = s_t\n",
    "            do_dWho\t\t= np.matrix(s_curr)\t\t\t\t\t\t\t\t\t\t# 1XH\n",
    "    \n",
    "            self.dE_dWho\t+= np.matmul(do_dWho.T, dE_do)\t\t\t\t\t\t# HXC\n",
    "            \n",
    "            # d o / d s_T = Who\n",
    "            do_ds\t\t= self.Who \t\t\t\t\t\t\t\t\t\t\t\t# HXC\n",
    "            \n",
    "            dE_ds \t\t= np.matmul(dE_do, do_ds.T)\t\t\t\t\t\t\t\t# 1XH\n",
    "            # s_T = tanh(h1+h2)\n",
    "            # d s_T / d (h1+h2) = 1 - s_T**2\n",
    "            ds_dh12\t\t= np.ones((1,self.H)) - np.multiply(s_curr,s_curr)\t\t# 1XH\n",
    "\n",
    "            dE_dh12\t\t= np.multiply(dE_ds,ds_dh12)\t\t\t\t\t\t\t# 1XH\n",
    "            \n",
    "            dh12_dh1\t= 1\n",
    "            dh12_dh2\t= 1\n",
    "            \n",
    "            dE_dh1 \t\t= dE_dh12\t\t\t\t\t\t\t\t\t\t\t\t# 1XH\n",
    "            dE_dh2 \t\t= dE_dh12\t\t\t\t\t\t\t\t\t\t\t\t# 1XH\n",
    "            \n",
    "            #  Going back in time            \n",
    "            for time_step in range(i, max(-1,i-self.K-1),-1):\n",
    "                \n",
    "                s_prev = np.matrix(self.s[time_step-1])\n",
    "                x_curr = np.matrix(self.X[time_step])\n",
    "                \n",
    "                # d h1/ d Whh = x_T\n",
    "                                \n",
    "                dh1_dWxh\t\t= np.matrix(x_curr) \t\t\t\t\t\t\t# 1xC\n",
    "                \n",
    "                self.dE_dWxh\t+= np.matmul(dh1_dWxh.T, dE_dh12)\t\t\t\t# CXH\n",
    "                \n",
    "                \n",
    "                # d h2/ d Whh = s_(T-1)\n",
    "                dh2_dWhh \t\t= np.matrix(s_prev) \t\t\t\t\t\t\t# 1XH\n",
    "                \n",
    "                self.dE_dWhh\t+= np.matmul(dh2_dWhh.T, dE_dh12)\t\t\t\t# HXH\n",
    "                \n",
    "                eq1 = np.ones((1,self.H)) - np.multiply(s_prev,s_prev)\n",
    "                eq2 = np.matmul(dE_dh12, self.Whh.T)\n",
    "                \n",
    "                dE_dh12 = np.multiply(eq1,eq2)\n",
    "\n",
    "            pass\n",
    "\n",
    "\n",
    "    def step(self):\n",
    "        self.Who -= np.multiply(self.LR, self.dE_dWho)\n",
    "        self.Wxh -= np.multiply(self.LR, self.dE_dWxh)\n",
    "        self.Whh -= np.multiply(self.LR, self.dE_dWhh)       \n",
    "#         self.Who_mom  = np.multiply((1-self.Mom),self.dE_dWho) + np.multiply(self.Mom,self.Who_mom)\n",
    "#         self.Who \t\t= self.Who + np.multiply(self.LR,self.Who_mom)\n",
    "#         self.Wxh_mom  = np.multiply((1-self.Mom),self.dE_dWxh) + np.multiply(self.Mom,self.Wxh_mom)\n",
    "#         self.Wxh \t\t= self.Wxh + np.multiply(self.LR,self.Wxh_mom)\n",
    "#         self.Whh_mom  = np.multiply((1-self.Mom),self.dE_dWhh) + np.multiply(self.Mom,self.Whh_mom)\n",
    "#         self.Whh \t\t= self.Whh + np.multiply(self.LR,self.Whh_mom)\n",
    "        pass"
   ]
  },
  {
   "cell_type": "code",
   "execution_count": 3,
   "metadata": {},
   "outputs": [],
   "source": [
    "X = np.genfromtxt('one_hot_1_short.csv', delimiter=',')\n",
    "T = X[1:]\n",
    "X = X[:-1]"
   ]
  },
  {
   "cell_type": "code",
   "execution_count": 4,
   "metadata": {},
   "outputs": [],
   "source": [
    "text = \"hello\"\n",
    "def train(epochs, K, e_min = 0.0001):\n",
    "    global text\n",
    "    train_loss = []\n",
    "    N = len(X)\n",
    "    for epoch in range(epochs):\n",
    "        avg_loss = 0.0\n",
    "        i = 0        \n",
    "        while i < N:\n",
    "            x = X[i:min(N,i+K)]\n",
    "            t = T[i:min(N,i+K)]\n",
    "            out = model.forward(x)\n",
    "            error = model.loss(out, t)\n",
    "            model.backward()\n",
    "            model.step()\n",
    "            avg_loss += error\n",
    "            i += K\n",
    "        avg_loss = avg_loss/float(N)\n",
    "        train_loss.append(avg_loss)\n",
    "        \n",
    "        if (epoch+1)%10 == 0:\n",
    "            print \"After Epoch\",epoch+1,avg_loss\n",
    "        \n",
    "        if (epoch+1)%20 == 0:\n",
    "            print \"Visualistion of Input\", text\n",
    "            out_str, confidence = model.vis(text)\n",
    "            print out_str, \" With confidence per character \", confidence\n",
    "\n",
    "        if avg_loss < e_min:\n",
    "            print \"Train Loss \",avg_loss\n",
    "            return train_loss\n",
    "    print \"Train Loss \",avg_loss\n",
    "    return train_loss"
   ]
  },
  {
   "cell_type": "code",
   "execution_count": 5,
   "metadata": {},
   "outputs": [
    {
     "name": "stdout",
     "output_type": "stream",
     "text": [
      "After Epoch 10 0.10284742678822564\n",
      "Train Loss  0.09899249723503899\n"
     ]
    },
    {
     "data": {
      "text/plain": [
       "[<matplotlib.lines.Line2D at 0x7f5f4aa37310>]"
      ]
     },
     "execution_count": 5,
     "metadata": {},
     "output_type": "execute_result"
    },
    {
     "data": {
      "image/png": "[encoded data removed]",
      "text/plain": [
       "<matplotlib.figure.Figure at 0x7f5f4a9565d0>"
      ]
     },
     "metadata": {},
     "output_type": "display_data"
    }
   ],
   "source": [
    "K = 5\n",
    "epochs = 50\n",
    "LR = 0.1\n",
    "H = 100\n",
    "C = 256\n",
    "temp = 1\n",
    "Mom = 0.1\n",
    "e_min = 0.1\n",
    "model = Model(H,C,LR,Mom, K, temp)\n",
    "train_loss = train(epochs,K,e_min)\n",
    "plt.plot(range(1,len(train_loss)+1),train_loss)"
   ]
  },
  {
   "cell_type": "code",
   "execution_count": 6,
   "metadata": {},
   "outputs": [
    {
     "name": "stdout",
     "output_type": "stream",
     "text": [
      "After Epoch 10 0.10111091208067267\n",
      "After Epoch 20 0.0897094131618781\n",
      "Visualistion of Input hello\n",
      "ello   With confidence per character  [0.978638669083263, 0.9999643703535245, 0.999363368888571, 0.9988329953750287, 0.9999774546957322]\n",
      "After Epoch 30 0.08448900720169249\n",
      "After Epoch 40 0.08102457874293005\n",
      "Visualistion of Input hello\n",
      "ello   With confidence per character  [0.9909090268503975, 0.9999508779961191, 0.9993683548861199, 0.9989959698773696, 0.9999878237239989]\n",
      "After Epoch 50 0.07852826450811319\n",
      "Train Loss  0.07852826450811319\n"
     ]
    },
    {
     "data": {
      "text/plain": [
       "[<matplotlib.lines.Line2D at 0x7f5f429bcb50>]"
      ]
     },
     "execution_count": 6,
     "metadata": {},
     "output_type": "execute_result"
    },
    {
     "data": {
      "image/png": "[encoded data removed]",
      "text/plain": [
       "<matplotlib.figure.Figure at 0x7f5f4a98ee50>"
      ]
     },
     "metadata": {},
     "output_type": "display_data"
    }
   ],
   "source": [
    "K = 5\n",
    "epochs = 50\n",
    "LR = 0.1\n",
    "H = 100\n",
    "C = 256\n",
    "temp = 1\n",
    "Mom = 0.1\n",
    "e_min = 0.01\n",
    "model = Model(H,C,LR,Mom, K, temp)\n",
    "train_loss = train(epochs,K,e_min)\n",
    "plt.plot(range(1,len(train_loss)+1),train_loss)"
   ]
  },
  {
   "cell_type": "code",
   "execution_count": 7,
   "metadata": {},
   "outputs": [
    {
     "name": "stdout",
     "output_type": "stream",
     "text": [
      "After Epoch 10 0.10159560351036043\n",
      "After Epoch 20 0.09002673800237156\n",
      "Visualistion of Input hello\n",
      "ello   With confidence per character  [0.9790127520961429, 0.9999825283854633, 0.9990315646027754, 0.9987927718587668, 0.999960282134282]\n",
      "After Epoch 30 0.08466043899378824\n",
      "After Epoch 40 0.08108103134176016\n",
      "Visualistion of Input hello\n",
      "ello   With confidence per character  [0.9910836459997201, 0.9999760778147883, 0.9991338693158034, 0.9991381184189987, 0.9999854093714637]\n",
      "After Epoch 50 0.07850267083083891\n",
      "After Epoch 60 0.07655297376865598\n",
      "Visualistion of Input hello\n",
      "ello   With confidence per character  [0.9944459636927897, 0.9999627866045633, 0.9992053048237087, 0.9992894622276622, 0.9999920020718724]\n",
      "After Epoch 70 0.07502057522665366\n",
      "After Epoch 80 0.07377768962300606\n",
      "Visualistion of Input hello\n",
      "ello   With confidence per character  [0.9959999532452614, 0.9999500529491514, 0.9992778369003658, 0.9993815633667193, 0.9999947045783696]\n",
      "After Epoch 90 0.07274352006343776\n",
      "After Epoch 100 0.07186492919815078\n",
      "Visualistion of Input hello\n",
      "ello   With confidence per character  [0.9968889621218802, 0.9999402213406454, 0.9993384656832508, 0.9994457961472268, 0.9999960732233855]\n",
      "After Epoch 110 0.07110570768502054\n",
      "After Epoch 120 0.07044038074222343\n",
      "Visualistion of Input hello\n",
      "ello   With confidence per character  [0.997462297289531, 0.999933311388614, 0.9993859801520704, 0.9994933577220155, 0.9999968610998232]\n",
      "After Epoch 130 0.069850505688541\n",
      "After Epoch 140 0.06932238553190728\n",
      "Visualistion of Input hello\n",
      "ello   With confidence per character  [0.9978616958387417, 0.9999286202633856, 0.9994229783747178, 0.9995297596800337, 0.9999973516228101]\n",
      "After Epoch 150 0.06884561415080594\n",
      "After Epoch 160 0.06841212474270769\n",
      "Visualistion of Input hello\n",
      "ello   With confidence per character  [0.998155330756032, 0.9999254473363864, 0.9994522090502139, 0.9995583584490203, 0.9999976718494332]\n",
      "After Epoch 170 0.06801555139926867\n",
      "After Epoch 180 0.0676507905593708\n",
      "Visualistion of Input hello\n",
      "ello   With confidence per character  [0.9983799769667601, 0.9999232745251814, 0.9994757772482049, 0.9995813891702812, 0.9999978866673634]\n",
      "After Epoch 190 0.06731369312107534\n",
      "After Epoch 200 0.06700084388077081\n",
      "Visualistion of Input hello\n",
      "ello   With confidence per character  [0.9985571890824296, 0.9999217555601689, 0.9994951698726892, 0.9996003846796035, 0.9999980323909177]\n",
      "Train Loss  0.06700084388077081\n"
     ]
    },
    {
     "data": {
      "text/plain": [
       "[<matplotlib.lines.Line2D at 0x7f5f42943550>]"
      ]
     },
     "execution_count": 7,
     "metadata": {},
     "output_type": "execute_result"
    },
    {
     "data": {
      "image/png": "[encoded data removed]",
      "text/plain": [
       "<matplotlib.figure.Figure at 0x7f5f429f5950>"
      ]
     },
     "metadata": {},
     "output_type": "display_data"
    }
   ],
   "source": [
    "K = 5\n",
    "epochs = 200\n",
    "LR = 0.1\n",
    "H = 100\n",
    "C = 256\n",
    "temp = 1\n",
    "Mom = 0.1\n",
    "e_min = 0.01\n",
    "model = Model(H,C,LR,Mom, K, temp)\n",
    "train_loss = train(epochs,K,e_min)\n",
    "plt.plot(range(1,len(train_loss)+1),train_loss)"
   ]
  },
  {
   "cell_type": "code",
   "execution_count": 8,
   "metadata": {},
   "outputs": [
    {
     "name": "stdout",
     "output_type": "stream",
     "text": [
      "After Epoch 10 0.10058360313427829\n",
      "After Epoch 20 0.08689426875333968\n",
      "Visualistion of Input hello\n",
      "ello   With confidence per character  [0.971010922901971, 0.9999715606847981, 0.9995019602874556, 0.999419494775376, 0.9999861838452757]\n",
      "After Epoch 30 0.08262989957398781\n",
      "After Epoch 40 0.07981111812245276\n",
      "Visualistion of Input hello\n",
      "ello   With confidence per character  [0.9881347891154494, 0.9999804283029099, 0.9995566780097106, 0.9994875299630906, 0.9999943329753692]\n",
      "After Epoch 50 0.07766396732684715\n",
      "After Epoch 60 0.07595188157230075\n",
      "Visualistion of Input hello\n",
      "ello   With confidence per character  [0.9927011431199431, 0.9999763081400472, 0.9995471317619272, 0.9995148692754511, 0.9999963505293625]\n",
      "After Epoch 70 0.07455242981672071\n",
      "After Epoch 80 0.07338704557314538\n",
      "Visualistion of Input hello\n",
      "ello   With confidence per character  [0.9947774028910096, 0.9999684672752178, 0.9995441939227928, 0.9995380527615265, 0.9999971951640255]\n",
      "After Epoch 90 0.0724010142412819\n",
      "After Epoch 100 0.07155483737557188\n",
      "Visualistion of Input hello\n",
      "ello   With confidence per character  [0.9959544552141985, 0.9999594177619343, 0.9995502954378443, 0.999563301653052, 0.999997641528361]\n",
      "After Epoch 110 0.07081940490534097\n",
      "After Epoch 120 0.0701729298547381\n",
      "Visualistion of Input hello\n",
      "ello   With confidence per character  [0.9967090592854676, 0.9999507601875102, 0.9995610221281237, 0.9995899094011919, 0.9999979052147673]\n",
      "After Epoch 130 0.06959888517181131\n",
      "After Epoch 140 0.0690845739264865\n",
      "Visualistion of Input hello\n",
      "ello   With confidence per character  [0.9972325240863742, 0.9999433475732643, 0.9995730868474674, 0.9996159042942783, 0.9999980644439181]\n",
      "After Epoch 150 0.06862012104706136\n",
      "After Epoch 160 0.06819775336376649\n",
      "Visualistion of Input hello\n",
      "ello   With confidence per character  [0.9976161662954547, 0.999937437264471, 0.9995848212092653, 0.9996398438692914, 0.9999981539588669]\n",
      "After Epoch 170 0.06781128013756585\n",
      "After Epoch 180 0.06745571465560585\n",
      "Visualistion of Input hello\n",
      "ello   With confidence per character  [0.9979089640744041, 0.9999329425740197, 0.9995955728328131, 0.9996610690023504, 0.999998192434705]\n",
      "After Epoch 190 0.06712699603315044\n",
      "After Epoch 200 0.06682178280149667\n",
      "Visualistion of Input hello\n",
      "ello   With confidence per character  [0.9981394957331072, 0.9999296372579003, 0.9996051981364619, 0.9996794830323941, 0.9999981916813409]\n",
      "Train Loss  0.06682178280149667\n"
     ]
    },
    {
     "data": {
      "text/plain": [
       "[<matplotlib.lines.Line2D at 0x7f5f428c0e50>]"
      ]
     },
     "execution_count": 8,
     "metadata": {},
     "output_type": "execute_result"
    },
    {
     "data": {
      "image/png": "[encoded data removed]",
      "text/plain": [
       "<matplotlib.figure.Figure at 0x7f5f429f53d0>"
      ]
     },
     "metadata": {},
     "output_type": "display_data"
    }
   ],
   "source": [
    "K = 5\n",
    "epochs = 200\n",
    "LR = 0.08\n",
    "H = 100\n",
    "C = 256\n",
    "temp = 1\n",
    "Mom = 0.1\n",
    "e_min = 0.001\n",
    "model = Model(H,C,LR,Mom, K, temp)\n",
    "train_loss = train(epochs,K,e_min)\n",
    "plt.plot(range(1,len(train_loss)+1),train_loss)"
   ]
  },
  {
   "cell_type": "code",
   "execution_count": null,
   "metadata": {},
   "outputs": [],
   "source": []
  }
 ],
 "metadata": {
  "kernelspec": {
   "display_name": "Python 2",
   "language": "python",
   "name": "python2"
  },
  "language_info": {
   "codemirror_mode": {
    "name": "ipython",
    "version": 2
   },
   "file_extension": ".py",
   "mimetype": "text/x-python",
   "name": "python",
   "nbconvert_exporter": "python",
   "pygments_lexer": "ipython2",
   "version": "2.7.14"
  }
 },
 "nbformat": 4,
 "nbformat_minor": 2
}
